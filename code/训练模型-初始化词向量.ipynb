{
 "cells": [
  {
   "cell_type": "code",
   "execution_count": 1,
   "metadata": {
    "_cell_guid": "4d5be342-abe9-4c95-98fd-c904762ecca9",
    "_uuid": "47570c242f4774c5d670093b822cf6a3f3a91ba9"
   },
   "outputs": [
    {
     "name": "stderr",
     "output_type": "stream",
     "text": [
      "Using TensorFlow backend.\n"
     ]
    }
   ],
   "source": [
    "import numpy as np\n",
    "import pandas as pd\n",
    "\n",
    "from sklearn.model_selection import train_test_split\n",
    "from sklearn.feature_extraction.text import TfidfVectorizer\n",
    "from sklearn.decomposition import PCA\n",
    "from sklearn.metrics import classification_report, f1_score, precision_score, recall_score\n",
    "from sklearn.utils import class_weight\n",
    "\n",
    "import tensorflow as tf\n",
    "\n",
    "from keras import layers\n",
    "from keras.preprocessing.sequence import pad_sequences\n",
    "from keras.models import Model, Sequential, Input\n",
    "import keras\n",
    "\n",
    "from keras_contrib.layers import CRF\n",
    "from keras_contrib.losses import crf_loss\n",
    "from keras_contrib.metrics import crf_accuracy\n",
    "\n",
    "import matplotlib.pyplot as plt\n",
    "import seaborn as sns\n",
    "\n",
    "import pygal\n",
    "import json\n",
    "\n",
    "gpus = tf.config.experimental.list_physical_devices(device_type='GPU')\n",
    "for gpu in gpus:\n",
    "    tf.config.experimental.set_memory_growth(gpu, True)"
   ]
  },
  {
   "cell_type": "code",
   "execution_count": 2,
   "metadata": {},
   "outputs": [],
   "source": [
    "df = pd.read_csv('data.csv')"
   ]
  },
  {
   "cell_type": "code",
   "execution_count": 3,
   "metadata": {},
   "outputs": [
    {
     "data": {
      "text/html": [
       "<div>\n",
       "<style scoped>\n",
       "    .dataframe tbody tr th:only-of-type {\n",
       "        vertical-align: middle;\n",
       "    }\n",
       "\n",
       "    .dataframe tbody tr th {\n",
       "        vertical-align: top;\n",
       "    }\n",
       "\n",
       "    .dataframe thead th {\n",
       "        text-align: right;\n",
       "    }\n",
       "</style>\n",
       "<table border=\"1\" class=\"dataframe\">\n",
       "  <thead>\n",
       "    <tr style=\"text-align: right;\">\n",
       "      <th></th>\n",
       "      <th>text</th>\n",
       "      <th>label</th>\n",
       "    </tr>\n",
       "  </thead>\n",
       "  <tbody>\n",
       "    <tr>\n",
       "      <th>0</th>\n",
       "      <td>广</td>\n",
       "      <td>B_ORG</td>\n",
       "    </tr>\n",
       "    <tr>\n",
       "      <th>1</th>\n",
       "      <td>西</td>\n",
       "      <td>I_ORG</td>\n",
       "    </tr>\n",
       "    <tr>\n",
       "      <th>2</th>\n",
       "      <td>壮</td>\n",
       "      <td>I_ORG</td>\n",
       "    </tr>\n",
       "    <tr>\n",
       "      <th>3</th>\n",
       "      <td>族</td>\n",
       "      <td>I_ORG</td>\n",
       "    </tr>\n",
       "    <tr>\n",
       "      <th>4</th>\n",
       "      <td>自</td>\n",
       "      <td>I_ORG</td>\n",
       "    </tr>\n",
       "    <tr>\n",
       "      <th>...</th>\n",
       "      <td>...</td>\n",
       "      <td>...</td>\n",
       "    </tr>\n",
       "    <tr>\n",
       "      <th>200749</th>\n",
       "      <td>公</td>\n",
       "      <td>O</td>\n",
       "    </tr>\n",
       "    <tr>\n",
       "      <th>200750</th>\n",
       "      <td>开</td>\n",
       "      <td>O</td>\n",
       "    </tr>\n",
       "    <tr>\n",
       "      <th>200751</th>\n",
       "      <td>发</td>\n",
       "      <td>O</td>\n",
       "    </tr>\n",
       "    <tr>\n",
       "      <th>200752</th>\n",
       "      <td>布</td>\n",
       "      <td>O</td>\n",
       "    </tr>\n",
       "    <tr>\n",
       "      <th>200753</th>\n",
       "      <td>）</td>\n",
       "      <td>O</td>\n",
       "    </tr>\n",
       "  </tbody>\n",
       "</table>\n",
       "<p>200754 rows × 2 columns</p>\n",
       "</div>"
      ],
      "text/plain": [
       "       text  label\n",
       "0         广  B_ORG\n",
       "1         西  I_ORG\n",
       "2         壮  I_ORG\n",
       "3         族  I_ORG\n",
       "4         自  I_ORG\n",
       "...     ...    ...\n",
       "200749    公      O\n",
       "200750    开      O\n",
       "200751    发      O\n",
       "200752    布      O\n",
       "200753    ）      O\n",
       "\n",
       "[200754 rows x 2 columns]"
      ]
     },
     "execution_count": 3,
     "metadata": {},
     "output_type": "execute_result"
    }
   ],
   "source": [
    "df"
   ]
  },
  {
   "cell_type": "code",
   "execution_count": 4,
   "metadata": {},
   "outputs": [],
   "source": [
    "WORD_NUM = 60"
   ]
  },
  {
   "cell_type": "code",
   "execution_count": 5,
   "metadata": {},
   "outputs": [],
   "source": [
    "# print(df.shape)\n",
    "# df = df[df['label'].map(lambda x: x.replace(' ', '') not in ['O', 'OO', '0'])]"
   ]
  },
  {
   "cell_type": "code",
   "execution_count": 6,
   "metadata": {},
   "outputs": [],
   "source": [
    "text_list = df[df['text'] == '。'].index.tolist()\n",
    "text_list = list(map(lambda x: x + 1, text_list))\n",
    "text_list.insert(0, 0)\n",
    "\n",
    "x = []\n",
    "y = []\n",
    "\n",
    "for m in range(len(text_list)):\n",
    "    if m == 0:\n",
    "        x.append(list(''.join(map(str, df.iloc[:text_list[m + 1], 0].tolist()))))\n",
    "        y.append(df.iloc[:text_list[m + 1], 1].tolist())\n",
    "    elif m == len(text_list) - 1:\n",
    "        continue\n",
    "    else:\n",
    "        x.append(list(''.join(map(str, df.iloc[text_list[m]: text_list[m + 1], 0].tolist()))))\n",
    "        y.append(df.iloc[text_list[m]: text_list[m + 1], 1].tolist())"
   ]
  },
  {
   "cell_type": "code",
   "execution_count": 7,
   "metadata": {
    "scrolled": true,
    "tags": []
   },
   "outputs": [
    {
     "data": {
      "text/plain": [
       "['广',\n",
       " '西',\n",
       " '壮',\n",
       " '族',\n",
       " '自',\n",
       " '治',\n",
       " '区',\n",
       " '人',\n",
       " '民',\n",
       " '政',\n",
       " '府',\n",
       " '关',\n",
       " '于',\n",
       " '同',\n",
       " '意',\n",
       " '广',\n",
       " '西',\n",
       " '那',\n",
       " '林',\n",
       " '自',\n",
       " '治',\n",
       " '区',\n",
       " '级',\n",
       " '自',\n",
       " '然',\n",
       " '保',\n",
       " '护',\n",
       " '区',\n",
       " '面',\n",
       " '积',\n",
       " '和',\n",
       " '界',\n",
       " '线',\n",
       " '确',\n",
       " '定',\n",
       " '方',\n",
       " '案',\n",
       " '的',\n",
       " '批',\n",
       " '复',\n",
       " '(',\n",
       " '桂',\n",
       " '政',\n",
       " '函',\n",
       " '〔',\n",
       " '2',\n",
       " '0',\n",
       " '1',\n",
       " '9',\n",
       " '〕',\n",
       " '5',\n",
       " '3',\n",
       " '号',\n",
       " ')',\n",
       " '自',\n",
       " '治',\n",
       " '区',\n",
       " '林',\n",
       " '业',\n",
       " '局',\n",
       " '：',\n",
       " '你',\n",
       " '局',\n",
       " '（',\n",
       " '原',\n",
       " '自',\n",
       " '治',\n",
       " '区',\n",
       " '林',\n",
       " '业',\n",
       " '厅',\n",
       " '）',\n",
       " '关',\n",
       " '于',\n",
       " '广',\n",
       " '西',\n",
       " '那',\n",
       " '林',\n",
       " '自',\n",
       " '治',\n",
       " '区',\n",
       " '级',\n",
       " '自',\n",
       " '然',\n",
       " '保',\n",
       " '护',\n",
       " '区',\n",
       " '面',\n",
       " '积',\n",
       " '和',\n",
       " '界',\n",
       " '线',\n",
       " '确',\n",
       " '定',\n",
       " '方',\n",
       " '案',\n",
       " '的',\n",
       " '请',\n",
       " '示',\n",
       " '收',\n",
       " '悉',\n",
       " '。']"
      ]
     },
     "execution_count": 7,
     "metadata": {},
     "output_type": "execute_result"
    }
   ],
   "source": [
    "x[0]"
   ]
  },
  {
   "cell_type": "code",
   "execution_count": 8,
   "metadata": {
    "scrolled": true,
    "tags": []
   },
   "outputs": [
    {
     "data": {
      "text/plain": [
       "['B_ORG',\n",
       " 'I_ORG',\n",
       " 'I_ORG',\n",
       " 'I_ORG',\n",
       " 'I_ORG',\n",
       " 'I_ORG',\n",
       " 'I_ORG',\n",
       " 'I_ORG',\n",
       " 'I_ORG',\n",
       " 'I_ORG',\n",
       " 'I_ORG',\n",
       " 'O',\n",
       " 'O',\n",
       " 'O',\n",
       " 'O',\n",
       " 'B_LOC',\n",
       " 'I_LOC',\n",
       " 'I_LOC',\n",
       " 'I_LOC',\n",
       " 'I_LOC',\n",
       " 'I_LOC',\n",
       " 'I_LOC',\n",
       " 'I_LOC',\n",
       " 'I_LOC',\n",
       " 'I_LOC',\n",
       " 'I_LOC',\n",
       " 'I_LOC',\n",
       " 'I_LOC',\n",
       " 'O',\n",
       " 'O',\n",
       " 'O',\n",
       " 'O',\n",
       " 'O',\n",
       " 'O',\n",
       " 'O',\n",
       " 'O',\n",
       " 'O',\n",
       " 'O',\n",
       " 'O',\n",
       " 'O',\n",
       " 'O',\n",
       " 'O',\n",
       " 'O',\n",
       " 'O',\n",
       " 'O',\n",
       " 'B_T',\n",
       " 'I_T',\n",
       " 'I_T',\n",
       " 'I_T',\n",
       " 'O',\n",
       " 'O',\n",
       " 'O',\n",
       " 'O',\n",
       " 'O',\n",
       " 'B_ORG',\n",
       " 'I_ORG',\n",
       " 'I_ORG',\n",
       " 'I_ORG',\n",
       " 'I_ORG',\n",
       " 'I_ORG',\n",
       " 'O',\n",
       " 'O',\n",
       " 'O',\n",
       " 'O',\n",
       " 'O',\n",
       " 'B_ORG',\n",
       " 'I_ORG',\n",
       " 'I_ORG',\n",
       " 'I_ORG',\n",
       " 'I_ORG',\n",
       " 'I_ORG',\n",
       " 'O',\n",
       " 'O',\n",
       " 'O',\n",
       " 'B_LOC',\n",
       " 'I_LOC',\n",
       " 'I_LOC',\n",
       " 'I_LOC',\n",
       " 'I_LOC',\n",
       " 'I_LOC',\n",
       " 'I_LOC',\n",
       " 'I_LOC',\n",
       " 'I_LOC',\n",
       " 'I_LOC',\n",
       " 'I_LOC',\n",
       " 'I_LOC',\n",
       " 'I_LOC',\n",
       " 'O',\n",
       " 'O',\n",
       " 'O',\n",
       " 'O',\n",
       " 'O',\n",
       " 'O',\n",
       " 'O',\n",
       " 'O',\n",
       " 'O',\n",
       " 'O',\n",
       " 'O',\n",
       " 'O',\n",
       " 'O',\n",
       " 'O',\n",
       " 'O']"
      ]
     },
     "execution_count": 8,
     "metadata": {},
     "output_type": "execute_result"
    }
   ],
   "source": [
    "y[0]"
   ]
  },
  {
   "cell_type": "code",
   "execution_count": 9,
   "metadata": {},
   "outputs": [],
   "source": [
    "# for m, n in enumerate(x):\n",
    "#     if len(n) == 0:\n",
    "#         print(m)"
   ]
  },
  {
   "cell_type": "code",
   "execution_count": 10,
   "metadata": {},
   "outputs": [],
   "source": [
    "del x[1402]\n",
    "del y[1402]"
   ]
  },
  {
   "cell_type": "code",
   "execution_count": 11,
   "metadata": {},
   "outputs": [
    {
     "data": {
      "text/plain": [
       "1723"
      ]
     },
     "execution_count": 11,
     "metadata": {},
     "output_type": "execute_result"
    }
   ],
   "source": [
    "len(x)"
   ]
  },
  {
   "cell_type": "code",
   "execution_count": 12,
   "metadata": {},
   "outputs": [
    {
     "data": {
      "text/plain": [
       "count    1723.000000\n",
       "mean      116.366802\n",
       "std       361.007044\n",
       "min         6.000000\n",
       "25%        30.000000\n",
       "50%        54.000000\n",
       "75%        98.000000\n",
       "max      8639.000000\n",
       "dtype: float64"
      ]
     },
     "execution_count": 12,
     "metadata": {},
     "output_type": "execute_result"
    }
   ],
   "source": [
    "pd.Series([len(i) for i in x]).describe()"
   ]
  },
  {
   "cell_type": "code",
   "execution_count": 13,
   "metadata": {
    "tags": []
   },
   "outputs": [],
   "source": [
    "remove_list = []\n",
    "for m, n in enumerate(x):\n",
    "    if len(n) > 300:\n",
    "        remove_list.append(m)"
   ]
  },
  {
   "cell_type": "code",
   "execution_count": 14,
   "metadata": {},
   "outputs": [],
   "source": [
    "x = [n for m, n in enumerate(x) if m not in remove_list]\n",
    "y = [n for m, n in enumerate(y) if m not in remove_list]"
   ]
  },
  {
   "cell_type": "code",
   "execution_count": 15,
   "metadata": {},
   "outputs": [
    {
     "data": {
      "text/plain": [
       "1639"
      ]
     },
     "execution_count": 15,
     "metadata": {},
     "output_type": "execute_result"
    }
   ],
   "source": [
    "len(x)"
   ]
  },
  {
   "cell_type": "code",
   "execution_count": 16,
   "metadata": {},
   "outputs": [
    {
     "data": {
      "text/plain": [
       "count    1639.000000\n",
       "mean       65.527151\n",
       "std        50.569338\n",
       "min         6.000000\n",
       "25%        29.000000\n",
       "50%        51.000000\n",
       "75%        87.000000\n",
       "max       299.000000\n",
       "dtype: float64"
      ]
     },
     "execution_count": 16,
     "metadata": {},
     "output_type": "execute_result"
    }
   ],
   "source": [
    "pd.Series([len(i) for i in x]).describe()"
   ]
  },
  {
   "cell_type": "code",
   "execution_count": 17,
   "metadata": {},
   "outputs": [],
   "source": [
    "def create(i):\n",
    "    global num\n",
    "    temp = []\n",
    "    \n",
    "    for g in i:\n",
    "        try:\n",
    "            corpus[g]\n",
    "            temp.append(corpus[g])\n",
    "        except:\n",
    "            corpus[g] = num\n",
    "            temp.append(corpus[g])\n",
    "            num += 1\n",
    "    return temp"
   ]
  },
  {
   "cell_type": "code",
   "execution_count": 18,
   "metadata": {},
   "outputs": [],
   "source": [
    "corpus = {}\n",
    "corpus['<PAD>'] = 0\n",
    "corpus['<UNK>'] = 1\n",
    "\n",
    "num = 2"
   ]
  },
  {
   "cell_type": "code",
   "execution_count": 19,
   "metadata": {},
   "outputs": [],
   "source": [
    "text = []\n",
    "for i in x:\n",
    "    temp = create(i)\n",
    "    text.append(temp)"
   ]
  },
  {
   "cell_type": "code",
   "execution_count": 20,
   "metadata": {
    "scrolled": true,
    "tags": []
   },
   "outputs": [
    {
     "data": {
      "text/plain": [
       "[2,\n",
       " 3,\n",
       " 4,\n",
       " 5,\n",
       " 6,\n",
       " 7,\n",
       " 8,\n",
       " 9,\n",
       " 10,\n",
       " 11,\n",
       " 12,\n",
       " 13,\n",
       " 14,\n",
       " 15,\n",
       " 16,\n",
       " 2,\n",
       " 3,\n",
       " 17,\n",
       " 18,\n",
       " 6,\n",
       " 7,\n",
       " 8,\n",
       " 19,\n",
       " 6,\n",
       " 20,\n",
       " 21,\n",
       " 22,\n",
       " 8,\n",
       " 23,\n",
       " 24,\n",
       " 25,\n",
       " 26,\n",
       " 27,\n",
       " 28,\n",
       " 29,\n",
       " 30,\n",
       " 31,\n",
       " 32,\n",
       " 33,\n",
       " 34,\n",
       " 35,\n",
       " 36,\n",
       " 11,\n",
       " 37,\n",
       " 38,\n",
       " 39,\n",
       " 40,\n",
       " 41,\n",
       " 42,\n",
       " 43,\n",
       " 44,\n",
       " 45,\n",
       " 46,\n",
       " 47,\n",
       " 6,\n",
       " 7,\n",
       " 8,\n",
       " 18,\n",
       " 48,\n",
       " 49,\n",
       " 50,\n",
       " 51,\n",
       " 49,\n",
       " 52,\n",
       " 53,\n",
       " 6,\n",
       " 7,\n",
       " 8,\n",
       " 18,\n",
       " 48,\n",
       " 54,\n",
       " 55,\n",
       " 13,\n",
       " 14,\n",
       " 2,\n",
       " 3,\n",
       " 17,\n",
       " 18,\n",
       " 6,\n",
       " 7,\n",
       " 8,\n",
       " 19,\n",
       " 6,\n",
       " 20,\n",
       " 21,\n",
       " 22,\n",
       " 8,\n",
       " 23,\n",
       " 24,\n",
       " 25,\n",
       " 26,\n",
       " 27,\n",
       " 28,\n",
       " 29,\n",
       " 30,\n",
       " 31,\n",
       " 32,\n",
       " 56,\n",
       " 57,\n",
       " 58,\n",
       " 59,\n",
       " 60]"
      ]
     },
     "execution_count": 20,
     "metadata": {},
     "output_type": "execute_result"
    }
   ],
   "source": [
    "text[0]"
   ]
  },
  {
   "cell_type": "code",
   "execution_count": 21,
   "metadata": {},
   "outputs": [],
   "source": [
    "text = pad_sequences(text, maxlen=WORD_NUM, padding='post', truncating='post', value=0)"
   ]
  },
  {
   "cell_type": "code",
   "execution_count": 22,
   "metadata": {},
   "outputs": [],
   "source": [
    "t = text.astype('str')\n",
    "t = [' '.join(i) for i in t.tolist()]\n",
    "\n",
    "vocabulary = {}\n",
    "for i in corpus.values():\n",
    "    vocabulary[str(i)] = i"
   ]
  },
  {
   "cell_type": "code",
   "execution_count": 23,
   "metadata": {},
   "outputs": [],
   "source": [
    "tfidf = TfidfVectorizer(vocabulary=vocabulary)\n",
    "embedding_matrix_temp = tfidf.fit_transform(t)"
   ]
  },
  {
   "cell_type": "code",
   "execution_count": 24,
   "metadata": {},
   "outputs": [
    {
     "data": {
      "text/plain": [
       "(1639, 1559)"
      ]
     },
     "execution_count": 24,
     "metadata": {},
     "output_type": "execute_result"
    }
   ],
   "source": [
    "embedding_matrix_temp.shape"
   ]
  },
  {
   "cell_type": "code",
   "execution_count": 25,
   "metadata": {},
   "outputs": [],
   "source": [
    "label = []\n",
    "for i in y:\n",
    "    label += i"
   ]
  },
  {
   "cell_type": "code",
   "execution_count": 26,
   "metadata": {},
   "outputs": [],
   "source": [
    "targ = {\n",
    "    'O': 0,\n",
    "    'B_LOC': 1, 'I_LOC': 2,\n",
    "    'B_ORG': 3, 'I_ORG': 4,\n",
    "    'B_PRO': 5, 'I_PRO': 6,\n",
    "    'B_T': 7, 'I_T': 8\n",
    "}"
   ]
  },
  {
   "cell_type": "code",
   "execution_count": 27,
   "metadata": {},
   "outputs": [
    {
     "data": {
      "text/plain": [
       "{'O': 0,\n",
       " 'B_LOC': 1,\n",
       " 'I_LOC': 2,\n",
       " 'B_ORG': 3,\n",
       " 'I_ORG': 4,\n",
       " 'B_PRO': 5,\n",
       " 'I_PRO': 6,\n",
       " 'B_T': 7,\n",
       " 'I_T': 8}"
      ]
     },
     "execution_count": 27,
     "metadata": {},
     "output_type": "execute_result"
    }
   ],
   "source": [
    "targ"
   ]
  },
  {
   "cell_type": "code",
   "execution_count": 28,
   "metadata": {},
   "outputs": [],
   "source": [
    "def create_label(i):\n",
    "    temp = []\n",
    "    \n",
    "    for g in i:\n",
    "        temp.append(targ[g])\n",
    "    return temp"
   ]
  },
  {
   "cell_type": "code",
   "execution_count": 29,
   "metadata": {
    "tags": []
   },
   "outputs": [],
   "source": [
    "label = []\n",
    "for i in y:\n",
    "    temp = create_label(i)\n",
    "    label.append(temp)"
   ]
  },
  {
   "cell_type": "code",
   "execution_count": 30,
   "metadata": {},
   "outputs": [],
   "source": [
    "label = pad_sequences(label, maxlen=WORD_NUM, padding='post', truncating='post', value=targ['O'])"
   ]
  },
  {
   "cell_type": "code",
   "execution_count": 31,
   "metadata": {},
   "outputs": [
    {
     "data": {
      "text/plain": [
       "(1639, 60)"
      ]
     },
     "execution_count": 31,
     "metadata": {},
     "output_type": "execute_result"
    }
   ],
   "source": [
    "label.shape"
   ]
  },
  {
   "cell_type": "code",
   "execution_count": 32,
   "metadata": {},
   "outputs": [
    {
     "data": {
      "text/plain": [
       "array([3, 4, 4, 4, 4, 4, 4, 4, 4, 4, 4, 0, 0, 0, 0, 1, 2, 2, 2, 2, 2, 2,\n",
       "       2, 2, 2, 2, 2, 2, 0, 0, 0, 0, 0, 0, 0, 0, 0, 0, 0, 0, 0, 0, 0, 0,\n",
       "       0, 7, 8, 8, 8, 0, 0, 0, 0, 0, 3, 4, 4, 4, 4, 4])"
      ]
     },
     "execution_count": 32,
     "metadata": {},
     "output_type": "execute_result"
    }
   ],
   "source": [
    "label[0]"
   ]
  },
  {
   "cell_type": "code",
   "execution_count": 33,
   "metadata": {
    "tags": []
   },
   "outputs": [],
   "source": [
    "remove_list = []\n",
    "for m, n in enumerate(label):\n",
    "    if len(set(n)) == 1 and set(n) == {0}:\n",
    "        remove_list.append(m)"
   ]
  },
  {
   "cell_type": "code",
   "execution_count": 34,
   "metadata": {},
   "outputs": [],
   "source": [
    "text = np.array([n for m, n in enumerate(text) if m not in remove_list])\n",
    "label = np.array([n for m, n in enumerate(label) if m not in remove_list])"
   ]
  },
  {
   "cell_type": "code",
   "execution_count": 35,
   "metadata": {},
   "outputs": [],
   "source": [
    "embedding_len = len(corpus)\n",
    "n_tag = 9\n",
    "\n",
    "embedding_size = 200\n",
    "lstm_units = 128"
   ]
  },
  {
   "cell_type": "code",
   "execution_count": 36,
   "metadata": {},
   "outputs": [],
   "source": [
    "pca = PCA(n_components=embedding_size)\n",
    "embedding_matrix_temp = pca.fit_transform(embedding_matrix_temp.A.T)"
   ]
  },
  {
   "cell_type": "code",
   "execution_count": 37,
   "metadata": {},
   "outputs": [
    {
     "data": {
      "text/plain": [
       "(1559, 200)"
      ]
     },
     "execution_count": 37,
     "metadata": {},
     "output_type": "execute_result"
    }
   ],
   "source": [
    "embedding_matrix_temp.shape"
   ]
  },
  {
   "cell_type": "code",
   "execution_count": 38,
   "metadata": {},
   "outputs": [],
   "source": [
    "# embedding_matrix = np.insert(embedding_matrix_temp, -1, np.zeros((1, embedding_size)), axis=0)"
   ]
  },
  {
   "cell_type": "code",
   "execution_count": 39,
   "metadata": {
    "_uuid": "ed0bec01d5f74324d79d75e1890fa4819f1acc98"
   },
   "outputs": [],
   "source": [
    "x_train, x_test, y_train, y_test = train_test_split(text, label.reshape(label.shape[0], label.shape[1], 1), test_size=0.2)"
   ]
  },
  {
   "cell_type": "code",
   "execution_count": 40,
   "metadata": {},
   "outputs": [
    {
     "data": {
      "text/plain": [
       "((667, 60), (667, 60, 1))"
      ]
     },
     "execution_count": 40,
     "metadata": {},
     "output_type": "execute_result"
    }
   ],
   "source": [
    "x_train.shape, y_train.shape"
   ]
  },
  {
   "cell_type": "code",
   "execution_count": 41,
   "metadata": {},
   "outputs": [
    {
     "data": {
      "text/plain": [
       "((167, 60), (167, 60, 1))"
      ]
     },
     "execution_count": 41,
     "metadata": {},
     "output_type": "execute_result"
    }
   ],
   "source": [
    "x_test.shape, y_test.shape"
   ]
  },
  {
   "cell_type": "code",
   "execution_count": 42,
   "metadata": {},
   "outputs": [
    {
     "data": {
      "text/plain": [
       "array([ 0.15481859,  7.17419355,  1.99354607,  6.19153675,  1.00198234,\n",
       "       29.89247312,  2.37201365, 23.65957447,  4.11547002])"
      ]
     },
     "execution_count": 42,
     "metadata": {},
     "output_type": "execute_result"
    }
   ],
   "source": [
    "class_weight = class_weight.compute_class_weight(class_weight='balanced', classes=np.unique(label.flatten()), y=label.flatten())\n",
    "class_weight"
   ]
  },
  {
   "cell_type": "code",
   "execution_count": 43,
   "metadata": {
    "_uuid": "2fa113078dde42fb187ec5f7216e6a2f8717c622",
    "tags": []
   },
   "outputs": [
    {
     "name": "stdout",
     "output_type": "stream",
     "text": [
      "Model: \"model_1\"\n",
      "_________________________________________________________________\n",
      "Layer (type)                 Output Shape              Param #   \n",
      "=================================================================\n",
      "input_1 (InputLayer)         (None, 60)                0         \n",
      "_________________________________________________________________\n",
      "embedding_1 (Embedding)      (None, 60, 200)           311800    \n",
      "_________________________________________________________________\n",
      "bidirectional_1 (Bidirection (None, 60, 400)           641600    \n",
      "_________________________________________________________________\n",
      "time_distributed_1 (TimeDist (None, 60, 9)             3609      \n",
      "_________________________________________________________________\n",
      "crf_1 (CRF)                  (None, 60, 9)             189       \n",
      "=================================================================\n",
      "Total params: 957,198\n",
      "Trainable params: 645,398\n",
      "Non-trainable params: 311,800\n",
      "_________________________________________________________________\n"
     ]
    }
   ],
   "source": [
    "inp = layers.Input(shape=(WORD_NUM, ))\n",
    "x = layers.Embedding(\n",
    "    embedding_len,\n",
    "    embedding_size,\n",
    "    input_length=WORD_NUM,\n",
    "    weights=[embedding_matrix_temp],\n",
    "    trainable=False\n",
    ")(inp)\n",
    "\n",
    "x = layers.Bidirectional(layers.LSTM(embedding_size, return_sequences=True))(x)\n",
    "\n",
    "x = layers.TimeDistributed(layers.Dense(n_tag, activation=\"relu\"))(x)\n",
    "x = CRF(n_tag, sparse_target=True)(x)\n",
    "\n",
    "model = Model(inputs=inp, outputs=x)\n",
    "\n",
    "model.compile(loss=crf_loss,\n",
    "              optimizer='adam',\n",
    "              metrics=[crf_accuracy])\n",
    "\n",
    "model.summary()"
   ]
  },
  {
   "cell_type": "code",
   "execution_count": 44,
   "metadata": {
    "_uuid": "124306348431764ee32027ab77412f1b3abf05bd",
    "scrolled": true,
    "tags": []
   },
   "outputs": [
    {
     "name": "stdout",
     "output_type": "stream",
     "text": [
      "Train on 600 samples, validate on 67 samples\n",
      "Epoch 1/30\n",
      "600/600 [==============================] - 5s 9ms/step - loss: 1.6645 - crf_accuracy: 0.6553 - val_loss: 1.2856 - val_crf_accuracy: 0.7122\n",
      "Epoch 2/30\n",
      "600/600 [==============================] - 4s 6ms/step - loss: 1.1824 - crf_accuracy: 0.7238 - val_loss: 1.0748 - val_crf_accuracy: 0.7348\n",
      "Epoch 3/30\n",
      "600/600 [==============================] - 4s 6ms/step - loss: 1.0135 - crf_accuracy: 0.7382 - val_loss: 0.9300 - val_crf_accuracy: 0.7586\n",
      "Epoch 4/30\n",
      "600/600 [==============================] - 4s 6ms/step - loss: 0.8744 - crf_accuracy: 0.7595 - val_loss: 0.8378 - val_crf_accuracy: 0.7897\n",
      "Epoch 5/30\n",
      "600/600 [==============================] - 4s 6ms/step - loss: 0.7732 - crf_accuracy: 0.7833 - val_loss: 0.7463 - val_crf_accuracy: 0.8222\n",
      "Epoch 6/30\n",
      "600/600 [==============================] - 4s 6ms/step - loss: 0.6915 - crf_accuracy: 0.7948 - val_loss: 0.6731 - val_crf_accuracy: 0.8231\n",
      "Epoch 7/30\n",
      "600/600 [==============================] - 4s 7ms/step - loss: 0.6231 - crf_accuracy: 0.8124 - val_loss: 0.6562 - val_crf_accuracy: 0.8203\n",
      "Epoch 8/30\n",
      "600/600 [==============================] - 4s 7ms/step - loss: 0.5651 - crf_accuracy: 0.8292 - val_loss: 0.5563 - val_crf_accuracy: 0.8543\n",
      "Epoch 9/30\n",
      "600/600 [==============================] - 4s 7ms/step - loss: 0.5094 - crf_accuracy: 0.8475 - val_loss: 0.5149 - val_crf_accuracy: 0.8600\n",
      "Epoch 10/30\n",
      "600/600 [==============================] - 5s 8ms/step - loss: 0.4658 - crf_accuracy: 0.8536 - val_loss: 0.4821 - val_crf_accuracy: 0.8662\n",
      "Epoch 11/30\n",
      "600/600 [==============================] - 4s 7ms/step - loss: 0.4330 - crf_accuracy: 0.8673 - val_loss: 0.4801 - val_crf_accuracy: 0.8640\n",
      "Epoch 12/30\n",
      "600/600 [==============================] - 4s 7ms/step - loss: 0.4084 - crf_accuracy: 0.8706 - val_loss: 0.4316 - val_crf_accuracy: 0.8888\n",
      "Epoch 13/30\n",
      "600/600 [==============================] - 4s 7ms/step - loss: 0.3696 - crf_accuracy: 0.8820 - val_loss: 0.4059 - val_crf_accuracy: 0.8920\n",
      "Epoch 14/30\n",
      "600/600 [==============================] - 4s 6ms/step - loss: 0.3375 - crf_accuracy: 0.8903 - val_loss: 0.4008 - val_crf_accuracy: 0.8863\n",
      "Epoch 15/30\n",
      "600/600 [==============================] - 4s 6ms/step - loss: 0.3120 - crf_accuracy: 0.8962 - val_loss: 0.3786 - val_crf_accuracy: 0.9057\n",
      "Epoch 16/30\n",
      "600/600 [==============================] - 4s 6ms/step - loss: 0.3004 - crf_accuracy: 0.8988 - val_loss: 0.3506 - val_crf_accuracy: 0.9026\n",
      "Epoch 17/30\n",
      "600/600 [==============================] - 4s 6ms/step - loss: 0.2858 - crf_accuracy: 0.9024 - val_loss: 0.3413 - val_crf_accuracy: 0.9060\n",
      "Epoch 18/30\n",
      "600/600 [==============================] - 4s 7ms/step - loss: 0.2670 - crf_accuracy: 0.9081 - val_loss: 0.3452 - val_crf_accuracy: 0.9132\n",
      "Epoch 19/30\n",
      "600/600 [==============================] - 4s 7ms/step - loss: 0.2518 - crf_accuracy: 0.9134 - val_loss: 0.3348 - val_crf_accuracy: 0.9115\n",
      "Epoch 20/30\n",
      "600/600 [==============================] - 4s 7ms/step - loss: 0.2375 - crf_accuracy: 0.9181 - val_loss: 0.3034 - val_crf_accuracy: 0.9148\n",
      "Epoch 21/30\n",
      "600/600 [==============================] - 4s 7ms/step - loss: 0.2269 - crf_accuracy: 0.9223 - val_loss: 0.3037 - val_crf_accuracy: 0.9280\n",
      "Epoch 22/30\n",
      "600/600 [==============================] - 4s 7ms/step - loss: 0.2173 - crf_accuracy: 0.9262 - val_loss: 0.3055 - val_crf_accuracy: 0.9289\n",
      "Epoch 23/30\n",
      "600/600 [==============================] - 4s 7ms/step - loss: 0.2067 - crf_accuracy: 0.9310 - val_loss: 0.3272 - val_crf_accuracy: 0.9138\n",
      "Epoch 24/30\n",
      "600/600 [==============================] - 4s 7ms/step - loss: 0.1930 - crf_accuracy: 0.9354 - val_loss: 0.3303 - val_crf_accuracy: 0.9298\n",
      "Epoch 25/30\n",
      "600/600 [==============================] - 4s 7ms/step - loss: 0.1806 - crf_accuracy: 0.9409 - val_loss: 0.3013 - val_crf_accuracy: 0.9359\n",
      "Epoch 26/30\n",
      "600/600 [==============================] - 4s 6ms/step - loss: 0.1738 - crf_accuracy: 0.9417 - val_loss: 0.2990 - val_crf_accuracy: 0.9315\n",
      "Epoch 27/30\n",
      "600/600 [==============================] - 4s 7ms/step - loss: 0.1839 - crf_accuracy: 0.9372 - val_loss: 0.2721 - val_crf_accuracy: 0.9367\n",
      "Epoch 28/30\n",
      "600/600 [==============================] - 4s 7ms/step - loss: 0.1758 - crf_accuracy: 0.9421 - val_loss: 0.2543 - val_crf_accuracy: 0.9344\n",
      "Epoch 29/30\n",
      "600/600 [==============================] - 5s 8ms/step - loss: 0.1613 - crf_accuracy: 0.9465 - val_loss: 0.2876 - val_crf_accuracy: 0.9375\n",
      "Epoch 30/30\n",
      "600/600 [==============================] - 4s 7ms/step - loss: 0.1522 - crf_accuracy: 0.9511 - val_loss: 0.2600 - val_crf_accuracy: 0.9294\n"
     ]
    }
   ],
   "source": [
    "# history = model.fit(x_train, y_train, batch_size=256, epochs=30, validation_split=0.1, class_weight=class_weight)\n",
    "history = model.fit(x_train, y_train, batch_size=64, epochs=30, validation_split=0.1)"
   ]
  },
  {
   "cell_type": "code",
   "execution_count": 45,
   "metadata": {},
   "outputs": [
    {
     "data": {
      "text/plain": [
       "<matplotlib.legend.Legend at 0x1cb5fbbe148>"
      ]
     },
     "execution_count": 45,
     "metadata": {},
     "output_type": "execute_result"
    },
    {
     "data": {
      "image/png": "[encoded data removed]",
      "text/plain": [
       "<Figure size 800x640 with 1 Axes>"
      ]
     },
     "metadata": {
      "needs_background": "light"
     },
     "output_type": "display_data"
    }
   ],
   "source": [
    "plt.figure(figsize=(10, 8), dpi=80)\n",
    "plt.plot(history.history['loss'], label='loss')\n",
    "plt.plot(history.history['val_loss'], label='val_loss')\n",
    "plt.title('Loss')\n",
    "plt.legend()"
   ]
  },
  {
   "cell_type": "code",
   "execution_count": 46,
   "metadata": {},
   "outputs": [
    {
     "data": {
      "text/plain": [
       "Text(0.5, 1.0, 'Acc')"
      ]
     },
     "execution_count": 46,
     "metadata": {},
     "output_type": "execute_result"
    },
    {
     "data": {
      "image/png": "[encoded data removed]",
      "text/plain": [
       "<Figure size 800x640 with 1 Axes>"
      ]
     },
     "metadata": {
      "needs_background": "light"
     },
     "output_type": "display_data"
    }
   ],
   "source": [
    "plt.figure(figsize=(10, 8), dpi=80)\n",
    "plt.plot(history.history['crf_accuracy'], label='train')\n",
    "plt.plot(history.history['val_crf_accuracy'], label='val')\n",
    "plt.legend()\n",
    "plt.title('Acc')"
   ]
  },
  {
   "cell_type": "code",
   "execution_count": 47,
   "metadata": {
    "_uuid": "d69d4e8d2a544352418b1fc7144c6162d05823c5"
   },
   "outputs": [
    {
     "name": "stdout",
     "output_type": "stream",
     "text": [
      "167/167 [==============================] - 0s 3ms/step\n"
     ]
    },
    {
     "data": {
      "text/plain": [
       "[0.36575810513096657, 0.9034597873687744]"
      ]
     },
     "execution_count": 47,
     "metadata": {},
     "output_type": "execute_result"
    }
   ],
   "source": [
    "model.evaluate(x_test, y_test)"
   ]
  },
  {
   "cell_type": "code",
   "execution_count": 48,
   "metadata": {},
   "outputs": [],
   "source": [
    "pre = np.argmax(model.predict(text), axis=-1)"
   ]
  },
  {
   "cell_type": "code",
   "execution_count": 49,
   "metadata": {},
   "outputs": [],
   "source": [
    "target_names = ['O', 'B_LOC', 'I_LOC', 'B_ORG', 'I_ORG', 'B_PRO', 'I_PRO', 'B_T', 'I_T']"
   ]
  },
  {
   "cell_type": "code",
   "execution_count": 50,
   "metadata": {},
   "outputs": [
    {
     "name": "stdout",
     "output_type": "stream",
     "text": [
      "              precision    recall  f1-score   support\n",
      "\n",
      "           O       0.97      0.98      0.97     35913\n",
      "       B_LOC       0.81      0.49      0.61       775\n",
      "       I_LOC       0.82      0.84      0.83      2789\n",
      "       B_ORG       0.80      0.57      0.66       898\n",
      "       I_ORG       0.90      0.93      0.91      5549\n",
      "       B_PRO       0.98      0.70      0.82       186\n",
      "       I_PRO       0.96      0.93      0.94      2344\n",
      "         B_T       0.90      0.65      0.75       235\n",
      "         I_T       0.91      0.94      0.92      1351\n",
      "\n",
      "    accuracy                           0.94     50040\n",
      "   macro avg       0.89      0.78      0.83     50040\n",
      "weighted avg       0.94      0.94      0.94     50040\n",
      "\n"
     ]
    }
   ],
   "source": [
    "print(classification_report(label.flatten(), pre.flatten(), target_names=target_names, zero_division=0))"
   ]
  },
  {
   "cell_type": "code",
   "execution_count": 51,
   "metadata": {},
   "outputs": [],
   "source": [
    "r_s = recall_score(label.flatten(), pre.flatten(), average=None)\n",
    "p_s = precision_score(label.flatten(), pre.flatten(), average=None)\n",
    "f_s = f1_score(label.flatten(), pre.flatten(), average=None)"
   ]
  },
  {
   "cell_type": "code",
   "execution_count": 52,
   "metadata": {},
   "outputs": [],
   "source": [
    "radar_chart = pygal.Radar(fill=True, range=(0, 1))\n",
    "\n",
    "radar_chart.title = '指标可视化'\n",
    "radar_chart.x_labels = target_names\n",
    "\n",
    "radar_chart.add('Recall', r_s)\n",
    "radar_chart.add('Precision', p_s)\n",
    "radar_chart.add('F1', f_s)\n",
    " \n",
    "radar_chart.render_to_file('result1.svg')"
   ]
  },
  {
   "cell_type": "code",
   "execution_count": 53,
   "metadata": {},
   "outputs": [
    {
     "data": {
      "text/plain": [
       "array([ 2,  3,  4,  5,  6,  7,  8,  9, 10, 11, 12, 13, 14, 15, 16,  2,  3,\n",
       "       17, 18,  6,  7,  8, 19,  6, 20, 21, 22,  8, 23, 24, 25, 26, 27, 28,\n",
       "       29, 30, 31, 32, 33, 34, 35, 36, 11, 37, 38, 39, 40, 41, 42, 43, 44,\n",
       "       45, 46, 47,  6,  7,  8, 18, 48, 49])"
      ]
     },
     "execution_count": 53,
     "metadata": {},
     "output_type": "execute_result"
    }
   ],
   "source": [
    "text[0]"
   ]
  },
  {
   "cell_type": "code",
   "execution_count": 54,
   "metadata": {
    "tags": []
   },
   "outputs": [
    {
     "data": {
      "text/plain": [
       "array([3, 4, 4, 4, 4, 4, 4, 4, 4, 4, 4, 0, 0, 0, 0, 1, 2, 2, 2, 2, 2, 2,\n",
       "       2, 2, 2, 2, 2, 2, 0, 0, 0, 0, 0, 0, 0, 0, 0, 0, 0, 0, 0, 0, 0, 0,\n",
       "       0, 0, 0, 0, 0, 0, 0, 0, 0, 0, 4, 4, 4, 4, 4, 4], dtype=int64)"
      ]
     },
     "execution_count": 54,
     "metadata": {},
     "output_type": "execute_result"
    }
   ],
   "source": [
    "pre[0]"
   ]
  },
  {
   "cell_type": "code",
   "execution_count": 55,
   "metadata": {},
   "outputs": [
    {
     "data": {
      "text/plain": [
       "array([3, 4, 4, 4, 4, 4, 4, 4, 4, 4, 4, 0, 0, 0, 0, 1, 2, 2, 2, 2, 2, 2,\n",
       "       2, 2, 2, 2, 2, 2, 0, 0, 0, 0, 0, 0, 0, 0, 0, 0, 0, 0, 0, 0, 0, 0,\n",
       "       0, 7, 8, 8, 8, 0, 0, 0, 0, 0, 3, 4, 4, 4, 4, 4])"
      ]
     },
     "execution_count": 55,
     "metadata": {},
     "output_type": "execute_result"
    }
   ],
   "source": [
    "label[0]"
   ]
  },
  {
   "cell_type": "code",
   "execution_count": 56,
   "metadata": {},
   "outputs": [
    {
     "data": {
      "text/plain": [
       "{'O': 0,\n",
       " 'B_LOC': 1,\n",
       " 'I_LOC': 2,\n",
       " 'B_ORG': 3,\n",
       " 'I_ORG': 4,\n",
       " 'B_PRO': 5,\n",
       " 'I_PRO': 6,\n",
       " 'B_T': 7,\n",
       " 'I_T': 8}"
      ]
     },
     "execution_count": 56,
     "metadata": {},
     "output_type": "execute_result"
    }
   ],
   "source": [
    "targ"
   ]
  },
  {
   "cell_type": "code",
   "execution_count": 57,
   "metadata": {},
   "outputs": [],
   "source": [
    "def invert_dict(d):\n",
    "    return dict([(v, k) for (k, v) in d.items()])"
   ]
  },
  {
   "cell_type": "code",
   "execution_count": 58,
   "metadata": {},
   "outputs": [
    {
     "data": {
      "text/plain": [
       "{0: 'O',\n",
       " 1: 'B_LOC',\n",
       " 2: 'I_LOC',\n",
       " 3: 'B_ORG',\n",
       " 4: 'I_ORG',\n",
       " 5: 'B_PRO',\n",
       " 6: 'I_PRO',\n",
       " 7: 'B_T',\n",
       " 8: 'I_T'}"
      ]
     },
     "execution_count": 58,
     "metadata": {},
     "output_type": "execute_result"
    }
   ],
   "source": [
    "targ_idx = invert_dict(targ)\n",
    "targ_idx"
   ]
  },
  {
   "cell_type": "code",
   "execution_count": 59,
   "metadata": {},
   "outputs": [],
   "source": [
    "# model.save_weights('model.h5')"
   ]
  },
  {
   "cell_type": "code",
   "execution_count": null,
   "metadata": {
    "_uuid": "ef881bb13b0dba32d5512df837b6322fe5d9ca99"
   },
   "outputs": [],
   "source": []
  }
 ],
 "metadata": {
  "kernelspec": {
   "display_name": "Python 3 (ipykernel)",
   "language": "python",
   "name": "python3"
  },
  "language_info": {
   "codemirror_mode": {
    "name": "ipython",
    "version": 3
   },
   "file_extension": ".py",
   "mimetype": "text/x-python",
   "name": "python",
   "nbconvert_exporter": "python",
   "pygments_lexer": "ipython3",
   "version": "3.7.12"
  }
 },
 "nbformat": 4,
 "nbformat_minor": 4
}
